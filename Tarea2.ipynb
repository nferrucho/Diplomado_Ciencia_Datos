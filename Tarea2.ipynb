{
  "nbformat": 4,
  "nbformat_minor": 0,
  "metadata": {
    "colab": {
      "provenance": [],
      "authorship_tag": "ABX9TyPn3GBWQlLNftiSriV/XMpo",
      "include_colab_link": true
    },
    "kernelspec": {
      "name": "python3",
      "display_name": "Python 3"
    },
    "language_info": {
      "name": "python"
    }
  },
  "cells": [
    {
      "cell_type": "markdown",
      "metadata": {
        "id": "view-in-github",
        "colab_type": "text"
      },
      "source": [
        "<a href=\"https://colab.research.google.com/github/nferrucho/Diplomado_Ciencia_Datos/blob/main/Tarea2.ipynb\" target=\"_parent\"><img src=\"https://colab.research.google.com/assets/colab-badge.svg\" alt=\"Open In Colab\"/></a>"
      ]
    },
    {
      "cell_type": "code",
      "execution_count": null,
      "metadata": {
        "colab": {
          "base_uri": "https://localhost:8080/"
        },
        "id": "Y1tlW8V8RB2H",
        "outputId": "3a61dc3e-1aa3-46d7-8612-62b14a6db755"
      },
      "outputs": [
        {
          "output_type": "stream",
          "name": "stdout",
          "text": [
            "['a', 'b', 'c', 'e', 'd']\n"
          ]
        }
      ],
      "source": [
        "alfabeto = 'abced'\n",
        "listAlfa = []\n",
        "for i in alfabeto:\n",
        "  listAlfa.append(i)\n",
        "print (listAlfa)\n"
      ]
    },
    {
      "cell_type": "code",
      "source": [
        "len(listAlfa)"
      ],
      "metadata": {
        "colab": {
          "base_uri": "https://localhost:8080/"
        },
        "id": "FH3CdoP-RGTM",
        "outputId": "66b2a4ce-ed9a-4764-8b11-2049623f63b4"
      },
      "execution_count": null,
      "outputs": [
        {
          "output_type": "execute_result",
          "data": {
            "text/plain": [
              "5"
            ]
          },
          "metadata": {},
          "execution_count": 6
        }
      ]
    },
    {
      "cell_type": "markdown",
      "source": [
        "Asi hemos pasado un texto a una lista con **append**\n",
        "\n"
      ],
      "metadata": {
        "id": "s7DhsP-yR4KB"
      }
    },
    {
      "cell_type": "markdown",
      "source": [],
      "metadata": {
        "id": "m-MLX08EUBex"
      }
    },
    {
      "cell_type": "code",
      "source": [
        "listB = listAlfa.copy()\n",
        "print (listB)"
      ],
      "metadata": {
        "colab": {
          "base_uri": "https://localhost:8080/"
        },
        "id": "-OyWBkmTUIii",
        "outputId": "48d542a0-0128-476d-e3b7-0cdff36f7c57"
      },
      "execution_count": null,
      "outputs": [
        {
          "output_type": "stream",
          "name": "stdout",
          "text": [
            "['a', 'b', 'c', 'e', 'd']\n"
          ]
        }
      ]
    },
    {
      "cell_type": "code",
      "source": [
        "print(listB.index('b'))"
      ],
      "metadata": {
        "colab": {
          "base_uri": "https://localhost:8080/"
        },
        "id": "_hVgAPuuUoB1",
        "outputId": "3abe9b8f-4995-4774-b047-ec08a1e440f0"
      },
      "execution_count": null,
      "outputs": [
        {
          "output_type": "stream",
          "name": "stdout",
          "text": [
            "1\n"
          ]
        }
      ]
    },
    {
      "cell_type": "code",
      "source": [
        "tupla = tuple(listB)\n",
        "print(tupla)"
      ],
      "metadata": {
        "colab": {
          "base_uri": "https://localhost:8080/"
        },
        "id": "ZnzzLF_EWI-4",
        "outputId": "8d820e5a-fd7d-421c-eb68-5a619fd6a996"
      },
      "execution_count": null,
      "outputs": [
        {
          "output_type": "stream",
          "name": "stdout",
          "text": [
            "('a', 'b', 'c', 'e', 'd')\n"
          ]
        }
      ]
    },
    {
      "cell_type": "code",
      "source": [
        "print(tupla[:3])"
      ],
      "metadata": {
        "colab": {
          "base_uri": "https://localhost:8080/"
        },
        "id": "273u39CjW17O",
        "outputId": "c64886bf-3fcc-45bd-a9ee-94843b921057"
      },
      "execution_count": null,
      "outputs": [
        {
          "output_type": "stream",
          "name": "stdout",
          "text": [
            "('a', 'b', 'c')\n"
          ]
        }
      ]
    },
    {
      "cell_type": "code",
      "source": [
        "print (tupla[1:])"
      ],
      "metadata": {
        "colab": {
          "base_uri": "https://localhost:8080/"
        },
        "id": "wwkMHJf_XCr6",
        "outputId": "143679ee-abb1-4b07-ad8c-385f8db45632"
      },
      "execution_count": null,
      "outputs": [
        {
          "output_type": "stream",
          "name": "stdout",
          "text": [
            "('b', 'c', 'e', 'd')\n"
          ]
        }
      ]
    },
    {
      "cell_type": "code",
      "source": [
        "print (tupla[::2])"
      ],
      "metadata": {
        "colab": {
          "base_uri": "https://localhost:8080/"
        },
        "id": "C99fPd1lXWJV",
        "outputId": "9b2bc117-d00b-4933-8ed3-3f2bc6882c45"
      },
      "execution_count": null,
      "outputs": [
        {
          "output_type": "stream",
          "name": "stdout",
          "text": [
            "('a', 'c', 'd')\n"
          ]
        }
      ]
    },
    {
      "cell_type": "code",
      "source": [
        "print(listB[0])"
      ],
      "metadata": {
        "colab": {
          "base_uri": "https://localhost:8080/"
        },
        "id": "ib1ByQhYYZ6F",
        "outputId": "af617505-c4c6-40be-ecdd-931e723badae"
      },
      "execution_count": null,
      "outputs": [
        {
          "output_type": "stream",
          "name": "stdout",
          "text": [
            "a\n"
          ]
        }
      ]
    },
    {
      "cell_type": "code",
      "source": [
        "listC = list('esta es una cadena')\n",
        "print (listC)\n",
        "listC = tuple(listC)\n",
        "print (listC)\n",
        "print (type(listC))"
      ],
      "metadata": {
        "colab": {
          "base_uri": "https://localhost:8080/"
        },
        "id": "oT90OK37ZqeV",
        "outputId": "b60d4965-dbc2-4baa-e53c-fc11a809e9f6"
      },
      "execution_count": null,
      "outputs": [
        {
          "output_type": "stream",
          "name": "stdout",
          "text": [
            "['e', 's', 't', 'a', ' ', 'e', 's', ' ', 'u', 'n', 'a', ' ', 'c', 'a', 'd', 'e', 'n', 'a']\n",
            "('e', 's', 't', 'a', ' ', 'e', 's', ' ', 'u', 'n', 'a', ' ', 'c', 'a', 'd', 'e', 'n', 'a')\n",
            "<class 'tuple'>\n"
          ]
        }
      ]
    },
    {
      "cell_type": "code",
      "source": [
        "dict1 ={}\n",
        "dict1 = {'colores': ['amarillo', 'azul','verde'],\n",
        "         'animales':'gato',\n",
        "         'valoes': {10,12,30},\n",
        "         }"
      ],
      "metadata": {
        "id": "Iifd2ALNcgzf"
      },
      "execution_count": null,
      "outputs": []
    },
    {
      "cell_type": "code",
      "source": [
        "!pip install numpy\n",
        "import numpy as np\n"
      ],
      "metadata": {
        "colab": {
          "base_uri": "https://localhost:8080/"
        },
        "id": "XwBAPY6Ed3Rx",
        "outputId": "1e30e3aa-765c-479f-eac1-56ab38840e54"
      },
      "execution_count": null,
      "outputs": [
        {
          "output_type": "stream",
          "name": "stdout",
          "text": [
            "Requirement already satisfied: numpy in /usr/local/lib/python3.10/dist-packages (1.22.4)\n"
          ]
        }
      ]
    },
    {
      "cell_type": "code",
      "source": [
        "a = np.array([13, 12, 120])\n",
        "print(type(a))\n",
        "print (a)"
      ],
      "metadata": {
        "colab": {
          "base_uri": "https://localhost:8080/"
        },
        "id": "3Yl2XIk2hzjd",
        "outputId": "d911a95c-6eeb-4c12-9c34-fbecc572f85e"
      },
      "execution_count": null,
      "outputs": [
        {
          "output_type": "stream",
          "name": "stdout",
          "text": [
            "<class 'numpy.ndarray'>\n",
            "[ 13  12 120]\n"
          ]
        }
      ]
    },
    {
      "cell_type": "code",
      "source": [
        "b = np.array([[13, 12, 120], [5,6,7]])\n",
        "print (b)"
      ],
      "metadata": {
        "colab": {
          "base_uri": "https://localhost:8080/"
        },
        "id": "i70iYhpHjAlN",
        "outputId": "c290de9f-2d5a-4cdd-dbe3-6b6fd068ce60"
      },
      "execution_count": null,
      "outputs": [
        {
          "output_type": "stream",
          "name": "stdout",
          "text": [
            "[[ 13  12 120]\n",
            " [  5   6   7]]\n"
          ]
        }
      ]
    },
    {
      "cell_type": "code",
      "source": [
        "from numpy.random import default_rng\n"
      ],
      "metadata": {
        "id": "e7bVjmTjjWyg"
      },
      "execution_count": null,
      "outputs": []
    },
    {
      "cell_type": "code",
      "source": [
        "print(b[1])"
      ],
      "metadata": {
        "colab": {
          "base_uri": "https://localhost:8080/"
        },
        "id": "vSce2h6PkA9C",
        "outputId": "df1e4e2c-b6e1-4113-bd9d-4c0b9c826727"
      },
      "execution_count": null,
      "outputs": [
        {
          "output_type": "stream",
          "name": "stdout",
          "text": [
            "[5 6 7]\n"
          ]
        }
      ]
    },
    {
      "cell_type": "code",
      "source": [
        "semilla = 567890\n",
        "rng = default_rng(semilla)\n"
      ],
      "metadata": {
        "id": "ATJ9bf_spKDt"
      },
      "execution_count": null,
      "outputs": []
    },
    {
      "cell_type": "code",
      "source": [
        "import pandas as pd"
      ],
      "metadata": {
        "id": "a3VCEoc8vyfN"
      },
      "execution_count": null,
      "outputs": []
    },
    {
      "cell_type": "code",
      "source": [
        "ciudades= pd.read_excel(\"\")"
      ],
      "metadata": {
        "id": "k_DjKJFnwnLx"
      },
      "execution_count": null,
      "outputs": []
    },
    {
      "cell_type": "markdown",
      "source": [],
      "metadata": {
        "id": "ODNwmDT3R-wy"
      }
    },
    {
      "cell_type": "code",
      "source": [
        "class Usuario:\n",
        "  pass\n",
        "\n",
        "print (Usuario)"
      ],
      "metadata": {
        "colab": {
          "base_uri": "https://localhost:8080/"
        },
        "id": "S-4NgNZrDTNw",
        "outputId": "3c866af3-794e-45b4-91ff-3d661fe0de97"
      },
      "execution_count": null,
      "outputs": [
        {
          "output_type": "stream",
          "name": "stdout",
          "text": [
            "<class '__main__.Usuario'>\n"
          ]
        }
      ]
    },
    {
      "cell_type": "code",
      "source": [
        "user1 = Usuario()\n",
        "user1.nombre = 'nelson'\n",
        "print (user1.nombre)\n",
        "user1.nombre"
      ],
      "metadata": {
        "colab": {
          "base_uri": "https://localhost:8080/",
          "height": 55
        },
        "id": "k_NBEOJ-EbHo",
        "outputId": "a04d2474-3447-4e84-b671-843127c6b638"
      },
      "execution_count": null,
      "outputs": [
        {
          "output_type": "stream",
          "name": "stdout",
          "text": [
            "nelson\n"
          ]
        },
        {
          "output_type": "execute_result",
          "data": {
            "text/plain": [
              "'nelson'"
            ],
            "application/vnd.google.colaboratory.intrinsic+json": {
              "type": "string"
            }
          },
          "metadata": {},
          "execution_count": 5
        }
      ]
    },
    {
      "cell_type": "code",
      "source": [
        "user2 = Usuario()\n",
        "user2.edad = 52\n",
        "user2.edad"
      ],
      "metadata": {
        "colab": {
          "base_uri": "https://localhost:8080/"
        },
        "id": "KpM9Cg7OF5Ii",
        "outputId": "0b17cbee-fd38-41f7-9a71-35da871084b5"
      },
      "execution_count": null,
      "outputs": [
        {
          "output_type": "execute_result",
          "data": {
            "text/plain": [
              "52"
            ]
          },
          "metadata": {},
          "execution_count": 11
        }
      ]
    },
    {
      "cell_type": "code",
      "source": [],
      "metadata": {
        "id": "ygCYbMqDJoqL"
      },
      "execution_count": null,
      "outputs": []
    },
    {
      "cell_type": "code",
      "source": [],
      "metadata": {
        "id": "wKC3ENO0Jpv0"
      },
      "execution_count": null,
      "outputs": []
    },
    {
      "cell_type": "code",
      "source": [
        "class User:\n",
        "  def __init__(self, nombre, edad):\n",
        "    self.nombre = nombre\n",
        "    self.edad = edad\n",
        "    self.llamado = 0\n",
        "\n",
        "  def imprime_edad(self, edad):\n",
        "    cadena  = print(\"la edad es\", self.edad)\n",
        "    return(cadena)\n",
        "\n",
        "  def __call__(self):\n",
        "    self.llamado +=1\n",
        "    return(self.llamado)\n",
        "\n",
        "u3 = User('nelson', 52)\n",
        "print (u3.nombre)\n",
        "print (u3.edad)\n",
        "u3.nombre\n",
        "\n",
        "print(u3.imprime_edad(52))\n",
        "print(u3())\n",
        "print(u3())\n",
        "#print(u3.imprime_edad)\n"
      ],
      "metadata": {
        "colab": {
          "base_uri": "https://localhost:8080/"
        },
        "id": "fgbxEKEKGWrf",
        "outputId": "e0b88c9a-04aa-422c-92bf-d8e60fe5e1cb"
      },
      "execution_count": null,
      "outputs": [
        {
          "output_type": "stream",
          "name": "stdout",
          "text": [
            "nelson\n",
            "52\n",
            "la edad es 52\n",
            "None\n",
            "1\n",
            "2\n"
          ]
        }
      ]
    },
    {
      "cell_type": "code",
      "source": [
        "help(User)"
      ],
      "metadata": {
        "colab": {
          "base_uri": "https://localhost:8080/"
        },
        "id": "qmfh-XfhJreC",
        "outputId": "2a1ccd04-6f98-4ea7-ea9d-efb195d013ce"
      },
      "execution_count": null,
      "outputs": [
        {
          "output_type": "stream",
          "name": "stdout",
          "text": [
            "Help on class User in module __main__:\n",
            "\n",
            "class User(builtins.object)\n",
            " |  User(nombre, edad)\n",
            " |  \n",
            " |  Methods defined here:\n",
            " |  \n",
            " |  __init__(self, nombre, edad)\n",
            " |      Initialize self.  See help(type(self)) for accurate signature.\n",
            " |  \n",
            " |  ----------------------------------------------------------------------\n",
            " |  Data descriptors defined here:\n",
            " |  \n",
            " |  __dict__\n",
            " |      dictionary for instance variables (if defined)\n",
            " |  \n",
            " |  __weakref__\n",
            " |      list of weak references to the object (if defined)\n",
            "\n"
          ]
        }
      ]
    }
  ]
}