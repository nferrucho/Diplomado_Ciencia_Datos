{
  "nbformat": 4,
  "nbformat_minor": 0,
  "metadata": {
    "colab": {
      "provenance": [],
      "authorship_tag": "ABX9TyMeWzCPjTsKtiRe/S0c5+yb",
      "include_colab_link": true
    },
    "kernelspec": {
      "name": "python3",
      "display_name": "Python 3"
    },
    "language_info": {
      "name": "python"
    }
  },
  "cells": [
    {
      "cell_type": "markdown",
      "metadata": {
        "id": "view-in-github",
        "colab_type": "text"
      },
      "source": [
        "<a href=\"https://colab.research.google.com/github/nferrucho/Diplomado_Ciencia_Datos/blob/main/Tareas/tarea2.ipynb\" target=\"_parent\"><img src=\"https://colab.research.google.com/assets/colab-badge.svg\" alt=\"Open In Colab\"/></a>"
      ]
    },
    {
      "cell_type": "markdown",
      "source": [
        "![beimax.png](data:image/png;base64,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)"
      ],
      "metadata": {
        "id": "N-buSl1xqlmx"
      }
    },
    {
      "cell_type": "markdown",
      "source": [
        "# **Desarrollo de primer documento colaborativo**"
      ],
      "metadata": {
        "id": "0HmDBocTq55D"
      }
    },
    {
      "cell_type": "markdown",
      "source": [
        "***Nelson Ferrucho***\n",
        "\n",
        "Ingeniero de sistemas y Computacion\n",
        "\n",
        "Especialista Ingeniria de software\n",
        "\n",
        "Especialista Procesos de produccion\n"
      ],
      "metadata": {
        "id": "5FsiBQv4rdFy"
      }
    },
    {
      "cell_type": "markdown",
      "source": [
        "Mi capacidad\n",
        "multidisciplinaria me permite diseñar, mejorar y proponer alternativas de solución a las\n",
        "necesidades y requerimientos en líneas de producción y en la gestión en productos de software.\n"
      ],
      "metadata": {
        "id": "u4w1FxeEsEM3"
      }
    },
    {
      "cell_type": "markdown",
      "source": [
        "Expliquemos algunos ejemplo de Python y su facilidad de desarrollo\n"
      ],
      "metadata": {
        "id": "q7jkNK2xspjn"
      }
    },
    {
      "cell_type": "code",
      "execution_count": null,
      "metadata": {
        "colab": {
          "base_uri": "https://localhost:8080/"
        },
        "id": "Y1tlW8V8RB2H",
        "outputId": "3a61dc3e-1aa3-46d7-8612-62b14a6db755"
      },
      "outputs": [
        {
          "output_type": "stream",
          "name": "stdout",
          "text": [
            "['a', 'b', 'c', 'e', 'd']\n"
          ]
        }
      ],
      "source": [
        "alfabeto = 'abced'\n",
        "listAlfa = []\n",
        "for i in alfabeto:\n",
        "  listAlfa.append(i)\n",
        "print (listAlfa)\n"
      ]
    },
    {
      "cell_type": "code",
      "source": [
        "len(listAlfa)"
      ],
      "metadata": {
        "colab": {
          "base_uri": "https://localhost:8080/"
        },
        "id": "FH3CdoP-RGTM",
        "outputId": "66b2a4ce-ed9a-4764-8b11-2049623f63b4"
      },
      "execution_count": null,
      "outputs": [
        {
          "output_type": "execute_result",
          "data": {
            "text/plain": [
              "5"
            ]
          },
          "metadata": {},
          "execution_count": 6
        }
      ]
    },
    {
      "cell_type": "markdown",
      "source": [
        "Señalemos ahora una estructura fundamental en Python.\n",
        "\n",
        "**Listas**."
      ],
      "metadata": {
        "id": "3h6AJXuas7t3"
      }
    },
    {
      "cell_type": "markdown",
      "source": [
        "Asi hemos pasado un texto a una lista con **append**\n",
        "\n"
      ],
      "metadata": {
        "id": "s7DhsP-yR4KB"
      }
    },
    {
      "cell_type": "markdown",
      "source": [],
      "metadata": {
        "id": "m-MLX08EUBex"
      }
    },
    {
      "cell_type": "code",
      "source": [
        "listB = listAlfa.copy()\n",
        "print (listB)"
      ],
      "metadata": {
        "colab": {
          "base_uri": "https://localhost:8080/"
        },
        "id": "-OyWBkmTUIii",
        "outputId": "48d542a0-0128-476d-e3b7-0cdff36f7c57"
      },
      "execution_count": null,
      "outputs": [
        {
          "output_type": "stream",
          "name": "stdout",
          "text": [
            "['a', 'b', 'c', 'e', 'd']\n"
          ]
        }
      ]
    },
    {
      "cell_type": "code",
      "source": [
        "print(listB.index('b'))"
      ],
      "metadata": {
        "colab": {
          "base_uri": "https://localhost:8080/"
        },
        "id": "_hVgAPuuUoB1",
        "outputId": "3abe9b8f-4995-4774-b047-ec08a1e440f0"
      },
      "execution_count": null,
      "outputs": [
        {
          "output_type": "stream",
          "name": "stdout",
          "text": [
            "1\n"
          ]
        }
      ]
    },
    {
      "cell_type": "code",
      "source": [
        "tupla = tuple(listB)\n",
        "print(tupla)"
      ],
      "metadata": {
        "colab": {
          "base_uri": "https://localhost:8080/"
        },
        "id": "ZnzzLF_EWI-4",
        "outputId": "8d820e5a-fd7d-421c-eb68-5a619fd6a996"
      },
      "execution_count": null,
      "outputs": [
        {
          "output_type": "stream",
          "name": "stdout",
          "text": [
            "('a', 'b', 'c', 'e', 'd')\n"
          ]
        }
      ]
    },
    {
      "cell_type": "code",
      "source": [
        "print(tupla[:3])"
      ],
      "metadata": {
        "colab": {
          "base_uri": "https://localhost:8080/"
        },
        "id": "273u39CjW17O",
        "outputId": "c64886bf-3fcc-45bd-a9ee-94843b921057"
      },
      "execution_count": null,
      "outputs": [
        {
          "output_type": "stream",
          "name": "stdout",
          "text": [
            "('a', 'b', 'c')\n"
          ]
        }
      ]
    },
    {
      "cell_type": "code",
      "source": [
        "print (tupla[1:])"
      ],
      "metadata": {
        "colab": {
          "base_uri": "https://localhost:8080/"
        },
        "id": "wwkMHJf_XCr6",
        "outputId": "143679ee-abb1-4b07-ad8c-385f8db45632"
      },
      "execution_count": null,
      "outputs": [
        {
          "output_type": "stream",
          "name": "stdout",
          "text": [
            "('b', 'c', 'e', 'd')\n"
          ]
        }
      ]
    },
    {
      "cell_type": "code",
      "source": [
        "print (tupla[::2])"
      ],
      "metadata": {
        "colab": {
          "base_uri": "https://localhost:8080/"
        },
        "id": "C99fPd1lXWJV",
        "outputId": "9b2bc117-d00b-4933-8ed3-3f2bc6882c45"
      },
      "execution_count": null,
      "outputs": [
        {
          "output_type": "stream",
          "name": "stdout",
          "text": [
            "('a', 'c', 'd')\n"
          ]
        }
      ]
    },
    {
      "cell_type": "code",
      "source": [
        "print(listB[0])"
      ],
      "metadata": {
        "colab": {
          "base_uri": "https://localhost:8080/"
        },
        "id": "ib1ByQhYYZ6F",
        "outputId": "af617505-c4c6-40be-ecdd-931e723badae"
      },
      "execution_count": null,
      "outputs": [
        {
          "output_type": "stream",
          "name": "stdout",
          "text": [
            "a\n"
          ]
        }
      ]
    },
    {
      "cell_type": "code",
      "source": [
        "listC = list('esta es una cadena')\n",
        "print (listC)\n",
        "listC = tuple(listC)\n",
        "print (listC)\n",
        "print (type(listC))"
      ],
      "metadata": {
        "colab": {
          "base_uri": "https://localhost:8080/"
        },
        "id": "oT90OK37ZqeV",
        "outputId": "b60d4965-dbc2-4baa-e53c-fc11a809e9f6"
      },
      "execution_count": null,
      "outputs": [
        {
          "output_type": "stream",
          "name": "stdout",
          "text": [
            "['e', 's', 't', 'a', ' ', 'e', 's', ' ', 'u', 'n', 'a', ' ', 'c', 'a', 'd', 'e', 'n', 'a']\n",
            "('e', 's', 't', 'a', ' ', 'e', 's', ' ', 'u', 'n', 'a', ' ', 'c', 'a', 'd', 'e', 'n', 'a')\n",
            "<class 'tuple'>\n"
          ]
        }
      ]
    },
    {
      "cell_type": "code",
      "source": [
        "dict1 ={}\n",
        "dict1 = {'colores': ['amarillo', 'azul','verde'],\n",
        "         'animales':'gato',\n",
        "         'valoes': {10,12,30},\n",
        "         }"
      ],
      "metadata": {
        "id": "Iifd2ALNcgzf"
      },
      "execution_count": null,
      "outputs": []
    },
    {
      "cell_type": "code",
      "source": [
        "!pip install numpy\n",
        "import numpy as np\n"
      ],
      "metadata": {
        "colab": {
          "base_uri": "https://localhost:8080/"
        },
        "id": "XwBAPY6Ed3Rx",
        "outputId": "1e30e3aa-765c-479f-eac1-56ab38840e54"
      },
      "execution_count": null,
      "outputs": [
        {
          "output_type": "stream",
          "name": "stdout",
          "text": [
            "Requirement already satisfied: numpy in /usr/local/lib/python3.10/dist-packages (1.22.4)\n"
          ]
        }
      ]
    },
    {
      "cell_type": "code",
      "source": [
        "a = np.array([13, 12, 120])\n",
        "print(type(a))\n",
        "print (a)"
      ],
      "metadata": {
        "colab": {
          "base_uri": "https://localhost:8080/"
        },
        "id": "3Yl2XIk2hzjd",
        "outputId": "d911a95c-6eeb-4c12-9c34-fbecc572f85e"
      },
      "execution_count": null,
      "outputs": [
        {
          "output_type": "stream",
          "name": "stdout",
          "text": [
            "<class 'numpy.ndarray'>\n",
            "[ 13  12 120]\n"
          ]
        }
      ]
    },
    {
      "cell_type": "code",
      "source": [
        "b = np.array([[13, 12, 120], [5,6,7]])\n",
        "print (b)"
      ],
      "metadata": {
        "colab": {
          "base_uri": "https://localhost:8080/"
        },
        "id": "i70iYhpHjAlN",
        "outputId": "c290de9f-2d5a-4cdd-dbe3-6b6fd068ce60"
      },
      "execution_count": null,
      "outputs": [
        {
          "output_type": "stream",
          "name": "stdout",
          "text": [
            "[[ 13  12 120]\n",
            " [  5   6   7]]\n"
          ]
        }
      ]
    },
    {
      "cell_type": "code",
      "source": [
        "from numpy.random import default_rng\n"
      ],
      "metadata": {
        "id": "e7bVjmTjjWyg"
      },
      "execution_count": null,
      "outputs": []
    },
    {
      "cell_type": "code",
      "source": [
        "print(b[1])"
      ],
      "metadata": {
        "colab": {
          "base_uri": "https://localhost:8080/"
        },
        "id": "vSce2h6PkA9C",
        "outputId": "df1e4e2c-b6e1-4113-bd9d-4c0b9c826727"
      },
      "execution_count": null,
      "outputs": [
        {
          "output_type": "stream",
          "name": "stdout",
          "text": [
            "[5 6 7]\n"
          ]
        }
      ]
    },
    {
      "cell_type": "code",
      "source": [
        "semilla = 567890\n",
        "rng = default_rng(semilla)\n"
      ],
      "metadata": {
        "id": "ATJ9bf_spKDt"
      },
      "execution_count": null,
      "outputs": []
    },
    {
      "cell_type": "code",
      "source": [
        "import pandas as pd"
      ],
      "metadata": {
        "id": "a3VCEoc8vyfN"
      },
      "execution_count": null,
      "outputs": []
    },
    {
      "cell_type": "code",
      "source": [
        "ciudades= pd.read_excel(\"\")"
      ],
      "metadata": {
        "id": "k_DjKJFnwnLx"
      },
      "execution_count": null,
      "outputs": []
    },
    {
      "cell_type": "markdown",
      "source": [],
      "metadata": {
        "id": "4ipEyrbxtbNm"
      }
    },
    {
      "cell_type": "code",
      "source": [],
      "metadata": {
        "id": "K9x-xbFJtffO"
      },
      "execution_count": null,
      "outputs": []
    },
    {
      "cell_type": "markdown",
      "source": [
        "**Aplicacion de clases y sus concepto fundamentales**"
      ],
      "metadata": {
        "id": "WynKzqp0tdHx"
      }
    },
    {
      "cell_type": "markdown",
      "source": [],
      "metadata": {
        "id": "ODNwmDT3R-wy"
      }
    },
    {
      "cell_type": "code",
      "source": [
        "class Usuario:\n",
        "  pass\n",
        "\n",
        "print (Usuario)"
      ],
      "metadata": {
        "colab": {
          "base_uri": "https://localhost:8080/"
        },
        "id": "S-4NgNZrDTNw",
        "outputId": "3c866af3-794e-45b4-91ff-3d661fe0de97"
      },
      "execution_count": null,
      "outputs": [
        {
          "output_type": "stream",
          "name": "stdout",
          "text": [
            "<class '__main__.Usuario'>\n"
          ]
        }
      ]
    },
    {
      "cell_type": "code",
      "source": [
        "user1 = Usuario()\n",
        "user1.nombre = 'nelson'\n",
        "print (user1.nombre)\n",
        "user1.nombre"
      ],
      "metadata": {
        "colab": {
          "base_uri": "https://localhost:8080/",
          "height": 55
        },
        "id": "k_NBEOJ-EbHo",
        "outputId": "a04d2474-3447-4e84-b671-843127c6b638"
      },
      "execution_count": null,
      "outputs": [
        {
          "output_type": "stream",
          "name": "stdout",
          "text": [
            "nelson\n"
          ]
        },
        {
          "output_type": "execute_result",
          "data": {
            "text/plain": [
              "'nelson'"
            ],
            "application/vnd.google.colaboratory.intrinsic+json": {
              "type": "string"
            }
          },
          "metadata": {},
          "execution_count": 5
        }
      ]
    },
    {
      "cell_type": "code",
      "source": [
        "user2 = Usuario()\n",
        "user2.edad = 52\n",
        "user2.edad"
      ],
      "metadata": {
        "colab": {
          "base_uri": "https://localhost:8080/"
        },
        "id": "KpM9Cg7OF5Ii",
        "outputId": "0b17cbee-fd38-41f7-9a71-35da871084b5"
      },
      "execution_count": null,
      "outputs": [
        {
          "output_type": "execute_result",
          "data": {
            "text/plain": [
              "52"
            ]
          },
          "metadata": {},
          "execution_count": 11
        }
      ]
    },
    {
      "cell_type": "code",
      "source": [],
      "metadata": {
        "id": "ygCYbMqDJoqL"
      },
      "execution_count": null,
      "outputs": []
    },
    {
      "cell_type": "code",
      "source": [],
      "metadata": {
        "id": "wKC3ENO0Jpv0"
      },
      "execution_count": null,
      "outputs": []
    },
    {
      "cell_type": "code",
      "source": [
        "class User:\n",
        "  def __init__(self, nombre, edad):\n",
        "    self.nombre = nombre\n",
        "    self.edad = edad\n",
        "    self.llamado = 0\n",
        "\n",
        "  def imprime_edad(self, edad):\n",
        "    cadena  = print(\"la edad es\", self.edad)\n",
        "    return(cadena)\n",
        "\n",
        "  def __call__(self):\n",
        "    self.llamado +=1\n",
        "    return(self.llamado)\n",
        "\n",
        "u3 = User('nelson', 52)\n",
        "print (u3.nombre)\n",
        "print (u3.edad)\n",
        "u3.nombre\n",
        "\n",
        "print(u3.imprime_edad(52))\n",
        "print(u3())\n",
        "print(u3())\n",
        "#print(u3.imprime_edad)\n"
      ],
      "metadata": {
        "colab": {
          "base_uri": "https://localhost:8080/"
        },
        "id": "fgbxEKEKGWrf",
        "outputId": "e0b88c9a-04aa-422c-92bf-d8e60fe5e1cb"
      },
      "execution_count": null,
      "outputs": [
        {
          "output_type": "stream",
          "name": "stdout",
          "text": [
            "nelson\n",
            "52\n",
            "la edad es 52\n",
            "None\n",
            "1\n",
            "2\n"
          ]
        }
      ]
    },
    {
      "cell_type": "code",
      "source": [
        "help(User)"
      ],
      "metadata": {
        "colab": {
          "base_uri": "https://localhost:8080/"
        },
        "id": "qmfh-XfhJreC",
        "outputId": "2a1ccd04-6f98-4ea7-ea9d-efb195d013ce"
      },
      "execution_count": null,
      "outputs": [
        {
          "output_type": "stream",
          "name": "stdout",
          "text": [
            "Help on class User in module __main__:\n",
            "\n",
            "class User(builtins.object)\n",
            " |  User(nombre, edad)\n",
            " |  \n",
            " |  Methods defined here:\n",
            " |  \n",
            " |  __init__(self, nombre, edad)\n",
            " |      Initialize self.  See help(type(self)) for accurate signature.\n",
            " |  \n",
            " |  ----------------------------------------------------------------------\n",
            " |  Data descriptors defined here:\n",
            " |  \n",
            " |  __dict__\n",
            " |      dictionary for instance variables (if defined)\n",
            " |  \n",
            " |  __weakref__\n",
            " |      list of weak references to the object (if defined)\n",
            "\n"
          ]
        }
      ]
    },
    {
      "cell_type": "markdown",
      "source": [
        "[Este link te lleva a entender que Kaggle -->](https://www.kaggle.com/datasets)"
      ],
      "metadata": {
        "id": "zrbGR4sbttQY"
      }
    },
    {
      "cell_type": "markdown",
      "source": [
        "**Algunas referencias de interes**\n",
        "\n",
        "[Gitgub](https://github.com/)\n",
        "\n",
        "[Python](https:////www.python.org//)\n",
        "\n",
        "[Numpy](https://numpy.org/)\n",
        "\n",
        "[Conda](https://docs.conda.io/en/latest/)\n"
      ],
      "metadata": {
        "id": "tq3J-kD2uaJ1"
      }
    },
    {
      "cell_type": "markdown",
      "source": [],
      "metadata": {
        "id": "YkFZRBOmvTOz"
      }
    }
  ]
}